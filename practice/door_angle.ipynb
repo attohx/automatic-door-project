{
 "cells": [
  {
   "cell_type": "code",
   "execution_count": 18,
   "id": "aa672c75",
   "metadata": {},
   "outputs": [],
   "source": [
    "import door"
   ]
  },
  {
   "cell_type": "code",
   "execution_count": 19,
   "id": "0272f13c",
   "metadata": {},
   "outputs": [],
   "source": [
    "a = door.Door(11)"
   ]
  },
  {
   "cell_type": "code",
   "execution_count": 20,
   "id": "1ca15b25",
   "metadata": {},
   "outputs": [],
   "source": [
    "a.set_angle(50)"
   ]
  },
  {
   "cell_type": "code",
   "execution_count": 21,
   "id": "313aa755",
   "metadata": {},
   "outputs": [
    {
     "name": "stdout",
     "output_type": "stream",
     "text": [
      "GPIO cleaned up\n"
     ]
    }
   ],
   "source": [
    "a.cleanup()"
   ]
  },
  {
   "cell_type": "code",
   "execution_count": 22,
   "id": "99f65b41",
   "metadata": {},
   "outputs": [],
   "source": [
    "b = door.Door(40)"
   ]
  },
  {
   "cell_type": "code",
   "execution_count": 23,
   "id": "1caa7c94",
   "metadata": {},
   "outputs": [],
   "source": [
    "b.set_angle(140)"
   ]
  },
  {
   "cell_type": "code",
   "execution_count": 24,
   "id": "61909b76",
   "metadata": {},
   "outputs": [
    {
     "name": "stdout",
     "output_type": "stream",
     "text": [
      "GPIO cleaned up\n"
     ]
    }
   ],
   "source": [
    "b.cleanup()"
   ]
  }
 ],
 "metadata": {
  "kernelspec": {
   "display_name": ".venv",
   "language": "python",
   "name": "python3"
  },
  "language_info": {
   "codemirror_mode": {
    "name": "ipython",
    "version": 3
   },
   "file_extension": ".py",
   "mimetype": "text/x-python",
   "name": "python",
   "nbconvert_exporter": "python",
   "pygments_lexer": "ipython3",
   "version": "3.11.2"
  }
 },
 "nbformat": 4,
 "nbformat_minor": 5
}
